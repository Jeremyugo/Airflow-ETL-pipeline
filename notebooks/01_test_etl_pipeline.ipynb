{
 "cells": [
  {
   "cell_type": "markdown",
   "metadata": {},
   "source": [
    "## Airflow ETL pipeline\n",
    "\n",
    "This notebook is intended for testing the containerized ETL pipeline\n"
   ]
  },
  {
   "cell_type": "code",
   "execution_count": 1,
   "metadata": {},
   "outputs": [],
   "source": [
    "# import packages\n",
    "import pandas as pd\n",
    "from sqlalchemy import create_engine, text\n",
    "\n",
    "# Define connection parameters\n",
    "db_user = 'postgres'\n",
    "db_password = 'postgres'\n",
    "db_host = 'localhost'\n",
    "db_port = '5432'\n",
    "db_name = 'postgres'\n",
    "\n",
    "# Create the connection string\n",
    "conn_str = f'postgresql+psycopg2://{db_user}:{db_password}@{db_host}:{db_port}/{db_name}'"
   ]
  },
  {
   "cell_type": "code",
   "execution_count": 4,
   "metadata": {},
   "outputs": [
    {
     "name": "stdout",
     "output_type": "stream",
     "text": [
      "('1', 'CA-2021-152156', datetime.date(2021, 11, 8), datetime.date(2021, 11, 11), '3 days', 'Second Class', 'CG-12520', 'Consumer', 'Henderson', 'Kentucky', '42420.0', 'South', 'FUR-BO-10001798', 'Furniture', 'Bookcases', 'Bush Somerset Collection Bookcase', 261.96, 2, 0.0, 41.9136)\n",
      "('2', 'CA-2021-152156', datetime.date(2021, 11, 8), datetime.date(2021, 11, 11), '3 days', 'Second Class', 'CG-12520', 'Consumer', 'Henderson', 'Kentucky', '42420.0', 'South', 'FUR-CH-10000454', 'Furniture', 'Chairs', 'Hon Deluxe Fabric Upholstered Stacking Chairs, Rounded Back', 731.94, 3, 0.0, 219.582)\n",
      "('3', 'CA-2021-138688', datetime.date(2021, 6, 12), datetime.date(2021, 6, 16), '4 days', 'Second Class', 'DV-13045', 'Corporate', 'Los Angeles', 'California', '90036.0', 'West', 'OFF-LA-10000240', 'Office Supplies', 'Labels', 'Self-Adhesive Address Labels for Typewriters by Universal', 14.62, 2, 0.0, 6.8714)\n",
      "('4', 'US-2020-108966', datetime.date(2020, 10, 11), datetime.date(2020, 10, 18), '7 days', 'Standard Class', 'SO-20335', 'Consumer', 'Fort Lauderdale', 'Florida', '33311.0', 'South', 'FUR-TA-10000577', 'Furniture', 'Tables', 'Bretford CR4500 Series Slim Rectangular Table', 957.5775, 5, 0.45, -383.031)\n",
      "('5', 'US-2020-108966', datetime.date(2020, 10, 11), datetime.date(2020, 10, 18), '7 days', 'Standard Class', 'SO-20335', 'Consumer', 'Fort Lauderdale', 'Florida', '33311.0', 'South', 'OFF-ST-10000760', 'Office Supplies', 'Storage', \"Eldon Fold 'N Roll Cart System\", 22.368, 2, 0.2, 2.5164)\n"
     ]
    }
   ],
   "source": [
    "engine = create_engine(conn_str)\n",
    "\n",
    "# Execute a query and fetch results\n",
    "with engine.connect() as connection:\n",
    "    result = connection.execute(text(\"SELECT * FROM storedata LIMIT 5\"))\n",
    "    for row in result:\n",
    "        print(row)"
   ]
  },
  {
   "cell_type": "code",
   "execution_count": null,
   "metadata": {},
   "outputs": [],
   "source": []
  }
 ],
 "metadata": {
  "kernelspec": {
   "display_name": "myenv",
   "language": "python",
   "name": "python3"
  },
  "language_info": {
   "codemirror_mode": {
    "name": "ipython",
    "version": 3
   },
   "file_extension": ".py",
   "mimetype": "text/x-python",
   "name": "python",
   "nbconvert_exporter": "python",
   "pygments_lexer": "ipython3",
   "version": "3.10.14"
  }
 },
 "nbformat": 4,
 "nbformat_minor": 2
}
